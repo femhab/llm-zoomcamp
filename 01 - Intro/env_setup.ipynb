{
 "cells": [
  {
   "cell_type": "code",
   "execution_count": 1,
   "id": "3d8d5a14-20b3-4540-b785-45375ea2cf81",
   "metadata": {},
   "outputs": [],
   "source": [
    "import openai"
   ]
  },
  {
   "cell_type": "code",
   "execution_count": 2,
   "id": "28d3c83b-81c0-42d8-bdc7-bb5b3bced1fe",
   "metadata": {},
   "outputs": [],
   "source": [
    "from openai import OpenAI"
   ]
  },
  {
   "cell_type": "code",
   "execution_count": 3,
   "id": "aca761a2-9a9b-46f4-8a3b-16d5ece16e53",
   "metadata": {},
   "outputs": [],
   "source": [
    "client = OpenAI()"
   ]
  },
  {
   "cell_type": "code",
   "execution_count": 4,
   "id": "96f10675-e1b3-445d-9b21-c54b62e0e13f",
   "metadata": {},
   "outputs": [],
   "source": [
    "import os"
   ]
  },
  {
   "cell_type": "code",
   "execution_count": 6,
   "id": "a9cb01da-dba1-49a6-b612-ce753c97bc25",
   "metadata": {},
   "outputs": [],
   "source": [
    "response = client.chat.completions.create(\n",
    "    model='gpt-4o',\n",
    "    messages=[{\"role\": \"user\", \"content\": \"Is it too late to join the course?\"}]\n",
    ")"
   ]
  },
  {
   "cell_type": "code",
   "execution_count": 10,
   "id": "435b432f-3c99-4c24-9311-65e357274cf0",
   "metadata": {},
   "outputs": [
    {
     "data": {
      "text/plain": [
       "\"I'm not sure which course you're referring to, but generally speaking, it depends on the specific course's enrollment deadlines, the curriculum structure, and your ability to catch up on any missed content. \\n\\nIf the course allows rolling admissions or late enrollments, you might still be able to join. However, if it's a structured course with specific start and end dates, you'll want to check with the course provider or institution to see if they're still accepting participants. It might also be helpful to review the course syllabus or contact the instructor to understand what you'll need to do to catch up if you're joining after the start date.\""
      ]
     },
     "execution_count": 10,
     "metadata": {},
     "output_type": "execute_result"
    }
   ],
   "source": [
    " response.choices[0].message.content"
   ]
  },
  {
   "cell_type": "code",
   "execution_count": null,
   "id": "f5694b46-076d-4648-8fa7-c8d4fb84ae75",
   "metadata": {},
   "outputs": [],
   "source": []
  }
 ],
 "metadata": {
  "kernelspec": {
   "display_name": "Python 3 (ipykernel)",
   "language": "python",
   "name": "python3"
  },
  "language_info": {
   "codemirror_mode": {
    "name": "ipython",
    "version": 3
   },
   "file_extension": ".py",
   "mimetype": "text/x-python",
   "name": "python",
   "nbconvert_exporter": "python",
   "pygments_lexer": "ipython3",
   "version": "3.12.1"
  }
 },
 "nbformat": 4,
 "nbformat_minor": 5
}
